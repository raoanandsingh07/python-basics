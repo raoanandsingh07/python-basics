{
  "nbformat": 4,
  "nbformat_minor": 0,
  "metadata": {
    "colab": {
      "provenance": []
    },
    "kernelspec": {
      "name": "python3",
      "display_name": "Python 3"
    },
    "language_info": {
      "name": "python"
    }
  },
  "cells": [
    {
      "cell_type": "markdown",
      "source": [
        "1. What is Python, and why is it popular?\n",
        "- Python is a high-level, general-purpose programming language known for its readability and versatility. It supports multiple programming paradigms including procedural, object-oriented, and functional programming.\n",
        "\n",
        " it is popular beacuse,\n",
        "- very ease of learning.\n",
        "- Versatility (used in web development, data science, automation, etc.).\n",
        "- a lot of libraries.\n",
        "- huge active community.\n",
        "\n",
        "\n",
        "2. What is an interpreter in Python?\n",
        "\n",
        "- An interpreter is a program that executes Python code line by line. It translates high-level code into machine-readable instructions during runtime, rather than compiling it beforehand like in some other languages.\n",
        "\n",
        "3. What are pre-defined keywords in Python?\n",
        "\n",
        "- Pre-defined keywords are reserved words that have special meaning in Python. They are used to define the syntax and structure of the language, like if, else, for, while, class, def, etc.\n",
        "\n",
        "4. Can keywords be used as variable names?\n",
        "\n",
        "- No, keywords cannot be used as variable names because they are reserved by the language to perform specific functions. For example, while = 5 would result in a syntax error.\n",
        "\n",
        "5. What is mutability in Python?\n",
        "\n",
        "- object/container whose state or value can be changed after they are created are called as mutable ojbects or container.\n",
        "\n",
        "6. Why are lists mutable, but tuples are immutable?\n",
        "\n",
        "- Lists are designed to be dynamic and modifiable — ideal for use cases where data changes frequently.\n",
        "\n",
        "- Tuples are designed for fixed data collections and often used for performance and safety — as they are immutable, they prevent accidental changes.\n",
        "\n",
        "7. What is the difference between == and is operators in Python?\n",
        "- == checks for value equality (do they contain the same data?).\n",
        "\n",
        "- is checks for identity (do they refer to the exact same object in memory?).\n",
        "\n",
        "\n",
        "8. What are logical operators in Python?\n",
        "\n",
        "- Logical operators are used to combine conditional statements:\n",
        "\n",
        " - and: True if both statements are true.\n",
        "\n",
        " - or: True if at least one statement is true.\n",
        "\n",
        " - not: Reverses the result (True becomes False and vice versa).\n",
        "\n",
        "\n",
        "9. What is type casting in Python?\n",
        "\n",
        "- Type casting, also referred to as type conversion, is the process of changing one data type to another in Python.\n",
        "\n",
        "10. What is the difference between implicit and explicit type casting?\n",
        "\n",
        "- implicit: Python automatically converts data types.\n",
        "Example: 3 + 4.0 results in 7.0 (int is converted to float).\n",
        "\n",
        "- Explicit: Programmer manually converts the type using functions like int(), float(), or str().\n",
        "\n",
        "11. What is the purpose of conditional statements in Python?\n",
        "\n",
        "- Conditional statements allow decision-making in programs. They let the code execute different blocks based on conditions, such as with if, elif, and else.\n",
        "\n",
        "12. How does the elif statement work?\n",
        "\n",
        "- The elif (short for else if) checks additional conditions if the if condition is false.It allows multiple branches of logic without nesting multiple if statements.\n",
        "\n",
        "13. What is the difference between for and while loops?\n",
        "- while loop>> repeatedly exxecute a block of code until a condition is met\n",
        "- for loop>>Used when the number of iterations is known or when iterating over a sequence (like a list, string).\n",
        "\n",
        "\n",
        "14. Describe a scenario where a while loop is more suitable than a for loop?\n",
        "\n",
        "- A while loop is better when the loop should continue until a condition becomes false, rather than a fixed number of times.\n",
        "\n",
        "- Imagine you're creating a program that asks a user to enter a password, and you want to keep prompting the user until they enter the correct password. In this case, you don’t know in advance how many attempts the user will need — so a while loop is more appropriate.\n"
      ],
      "metadata": {
        "id": "vIoPV6L30fdh"
      }
    },
    {
      "cell_type": "markdown",
      "source": [
        "#practical question and answer"
      ],
      "metadata": {
        "id": "SlduGsRm_jVb"
      }
    },
    {
      "cell_type": "code",
      "source": [
        "#1 48 Write a Python program to print \"Hello, World!\n",
        "print(\"hello world\")"
      ],
      "metadata": {
        "colab": {
          "base_uri": "https://localhost:8080/"
        },
        "id": "9Ahm1qEB_HBr",
        "outputId": "5cc5554e-1c52-48b9-c0c9-2bf863a73aa3"
      },
      "execution_count": null,
      "outputs": [
        {
          "output_type": "stream",
          "name": "stdout",
          "text": [
            "hello world\n"
          ]
        }
      ]
    },
    {
      "cell_type": "code",
      "source": [
        "#2 Write a Python program that displays your name and age.\n",
        "name = \"Rao anand singh\"\n",
        "age = 23\n",
        "print(\"my name is\", name)\n",
        "print(\"i am\", age, \"years old\" )"
      ],
      "metadata": {
        "colab": {
          "base_uri": "https://localhost:8080/"
        },
        "id": "U40_LDP9ANrw",
        "outputId": "bffec859-cf36-48fc-d04a-9ed4b633ab32"
      },
      "execution_count": null,
      "outputs": [
        {
          "output_type": "stream",
          "name": "stdout",
          "text": [
            "my name is Rao anand singh\n",
            "i am 23 years old\n"
          ]
        }
      ]
    },
    {
      "cell_type": "code",
      "source": [
        "#3 Write code to print all the pre-defined keywords in Python using the keyword library\n",
        "help(\"keywords\")"
      ],
      "metadata": {
        "colab": {
          "base_uri": "https://localhost:8080/"
        },
        "id": "v9vANIs4BJU-",
        "outputId": "e284c07a-8c06-4163-8518-4f5eb6bbb386"
      },
      "execution_count": null,
      "outputs": [
        {
          "output_type": "stream",
          "name": "stdout",
          "text": [
            "\n",
            "Here is a list of the Python keywords.  Enter any keyword to get more help.\n",
            "\n",
            "False               class               from                or\n",
            "None                continue            global              pass\n",
            "True                def                 if                  raise\n",
            "and                 del                 import              return\n",
            "as                  elif                in                  try\n",
            "assert              else                is                  while\n",
            "async               except              lambda              with\n",
            "await               finally             nonlocal            yield\n",
            "break               for                 not                 \n",
            "\n"
          ]
        }
      ]
    },
    {
      "cell_type": "code",
      "source": [
        "#4 Write a program that checks if a given word is a Python keyword\n",
        "import keyword\n",
        "word = input(\"Enter a word: \")\n",
        "if keyw.iskeyword(word):\n",
        "  print(f\"'{word}' is a keyword.\")\n",
        "else:\n",
        "  print(f\"'{word}' is not a keyword\")\n",
        "\n"
      ],
      "metadata": {
        "id": "mT3h-_HGBj0e",
        "colab": {
          "base_uri": "https://localhost:8080/"
        },
        "outputId": "042bd5fd-7fd6-4545-ff22-fd1970256f77"
      },
      "execution_count": null,
      "outputs": [
        {
          "output_type": "stream",
          "name": "stdout",
          "text": [
            "Enter a word: if\n",
            "'if' is a keyword.\n"
          ]
        }
      ]
    },
    {
      "cell_type": "code",
      "source": [
        "#7 Write a program that performs basic arithmetic operations on two user-input numbers.\n",
        "# Get user input for two numbers\n",
        "num1 = float(input(\"Enter the first number: \"))\n",
        "num2 = float(input(\"Enter the second number: \"))\n",
        "\n",
        "# Perform arithmetic operations\n",
        "addition = num1 + num2\n",
        "subtraction = num1 - num2\n",
        "multiplication = num1 * num2\n",
        "exponentiation = num1 ** num2\n",
        "\n",
        "# Check for division by zero before dividing\n",
        "if num2 != 0:\n",
        "    division = num1 / num2\n",
        "    modulus = num1 % num2\n",
        "else:\n",
        "    division = \"Undefined (cannot divide by zero)\"\n",
        "    modulus = \"Undefined (cannot take modulus with zero)\"\n",
        "\n",
        "# Display the results\n",
        "print(\"Results of Arithmetic Operations:\")\n",
        "print(\"Addition:\", addition)\n",
        "print(\"Subtraction:\", subtraction)\n",
        "print(\"Multiplication:\", multiplication)\n",
        "print(\"exponent:\", exponentiation)\n",
        "print(\"Division:\", division)\n",
        "print(\"Modulus:\", modulus)\n"
      ],
      "metadata": {
        "id": "5wbT5wmblQ2f",
        "colab": {
          "base_uri": "https://localhost:8080/"
        },
        "outputId": "fb9a39e8-5ec6-4233-8ce1-14385a60debd"
      },
      "execution_count": 14,
      "outputs": [
        {
          "output_type": "stream",
          "name": "stdout",
          "text": [
            "Enter the first number: 2\n",
            "Enter the second number: 3\n",
            "Results of Arithmetic Operations:\n",
            "Addition: 5.0\n",
            "Subtraction: -1.0\n",
            "Multiplication: 6.0\n",
            "exponent: 8.0\n",
            "Division: 0.6666666666666666\n",
            "Modulus: 2.0\n"
          ]
        }
      ]
    },
    {
      "cell_type": "code",
      "source": [
        "#8 Write a program to demonstrate the use of logical operators\n",
        "\n",
        "a = int(input(\"Enter a number (a): \"))\n",
        "b = int(input(\"Enter another number (b): \"))\n",
        "\n",
        "# Logical AND\n",
        "if a > 0 and b > 0:\n",
        "    print(\"Both numbers are positive.\")\n",
        "\n",
        "# Logical OR\n",
        "if a > 0 or b > 0:\n",
        "    print(\"At least one number is positive.\")\n",
        "\n",
        "# Logical NOT\n",
        "if not (a < 0 or b < 0):\n",
        "    print(\"None of the numbers are negative.\")\n",
        "else:\n",
        "    print(\"At least one number is negative.\")\n"
      ],
      "metadata": {
        "colab": {
          "base_uri": "https://localhost:8080/"
        },
        "id": "9b8e_T1fLS2W",
        "outputId": "153c3f80-e5c6-42ac-8653-62f05443359d"
      },
      "execution_count": 15,
      "outputs": [
        {
          "output_type": "stream",
          "name": "stdout",
          "text": [
            "Enter a number (a): 21\n",
            "Enter another number (b): 19\n",
            "Both numbers are positive.\n",
            "At least one number is positive.\n",
            "None of the numbers are negative.\n"
          ]
        }
      ]
    },
    {
      "cell_type": "code",
      "source": [
        "#9 Write a Python program to convert user input from string to integer, float, and boolean types\n",
        "\n",
        "number = input(\"enter a value: \")\n",
        "#string to interger\n",
        "int_value = int(number)\n",
        "print(\"integers\", int_value)\n",
        "#string to float\n",
        "float_value = float(number)\n",
        "print(\"float\", float_value)\n",
        "#string to bool\n",
        "bool_value = bool(number)\n",
        "print(\"boolean\", bool_value)"
      ],
      "metadata": {
        "colab": {
          "base_uri": "https://localhost:8080/"
        },
        "id": "9n4DqA7zNLBZ",
        "outputId": "500c82b8-9633-4471-df15-f383fb2e78c7"
      },
      "execution_count": 28,
      "outputs": [
        {
          "output_type": "stream",
          "name": "stdout",
          "text": [
            "enter a value: 2\n",
            "integers 2\n",
            "float 2.0\n",
            "boolean True\n"
          ]
        }
      ]
    },
    {
      "cell_type": "code",
      "source": [
        "#10  Write code to demonstrate type casting with list elements\n",
        "list_element = [\"10\",\"20\", \"30\", \"40\"]\n",
        "\n",
        "#string to integer\n",
        "int_list = [int(item) for item in list_element]\n",
        "print(\"integers list\", int_list)\n",
        "\n",
        "#string to float\n",
        "float_list = [ float(item) for item in list_element]\n",
        "print(\"float list\", float_list)\n"
      ],
      "metadata": {
        "colab": {
          "base_uri": "https://localhost:8080/"
        },
        "id": "HA2L71HfNK-N",
        "outputId": "77fc7e75-5676-4e05-8424-2f66e6b442da"
      },
      "execution_count": 36,
      "outputs": [
        {
          "output_type": "stream",
          "name": "stdout",
          "text": [
            "integers list [10, 20, 30, 40]\n",
            "float list [10.0, 20.0, 30.0, 40.0]\n"
          ]
        }
      ]
    },
    {
      "cell_type": "code",
      "source": [
        "#11 Write a program that checks if a number is positive, negative, or zero\n",
        "a = float(input(\"enter the value: \"))\n",
        "if a>0:\n",
        "  print(\"number is positive\")\n",
        "elif a<0:\n",
        "  print(\"number is negative\")\n",
        "else:\n",
        "  print(\"number is zero\")"
      ],
      "metadata": {
        "colab": {
          "base_uri": "https://localhost:8080/"
        },
        "id": "VSJD7CrMNK67",
        "outputId": "72630bdb-8bd0-45a6-f940-1186e6c36cc1"
      },
      "execution_count": 49,
      "outputs": [
        {
          "output_type": "stream",
          "name": "stdout",
          "text": [
            "enter the value: 0\n",
            "number is zero\n"
          ]
        }
      ]
    },
    {
      "cell_type": "code",
      "source": [
        "#12  Write a for loop to print numbers from 1 to 10\n",
        "\n",
        "for a in range(1,11):\n",
        "  print(a)"
      ],
      "metadata": {
        "colab": {
          "base_uri": "https://localhost:8080/"
        },
        "id": "3xozosbFdccQ",
        "outputId": "e4c511af-44e4-414f-f115-c077286dc87b"
      },
      "execution_count": 50,
      "outputs": [
        {
          "output_type": "stream",
          "name": "stdout",
          "text": [
            "1\n",
            "2\n",
            "3\n",
            "4\n",
            "5\n",
            "6\n",
            "7\n",
            "8\n",
            "9\n",
            "10\n"
          ]
        }
      ]
    },
    {
      "cell_type": "code",
      "source": [
        " #13 Write a Python program to find the sum of all even numbers between 1 and 50\n",
        "\n",
        "total = 0\n",
        "for num in range(1,51):\n",
        "  if num % 2 == 0:\n",
        "    total+= num\n",
        "\n",
        "print(\"total of even number\",total)\n",
        "\n",
        ""
      ],
      "metadata": {
        "colab": {
          "base_uri": "https://localhost:8080/"
        },
        "id": "j16j-zcwepwN",
        "outputId": "c8a0af77-1b28-4a41-9b14-527c4f8c8122"
      },
      "execution_count": 62,
      "outputs": [
        {
          "output_type": "stream",
          "name": "stdout",
          "text": [
            "total of even number 650\n"
          ]
        }
      ]
    },
    {
      "cell_type": "code",
      "source": [
        "#14 Write a program to reverse a string using a while loop\n",
        "text = input(\"enter a string: \")\n",
        "reversed_text = \"\"\n",
        "index = len(text)-1\n",
        "while index>= 0:\n",
        "  reversed_text += text[index]\n",
        "  index -= 1\n",
        "print(\"reversed string:\", reversed_text)"
      ],
      "metadata": {
        "colab": {
          "base_uri": "https://localhost:8080/"
        },
        "id": "D2gmL2fjfXZi",
        "outputId": "d34ac4d5-1d5f-452d-a4f1-56c92ef4fb62"
      },
      "execution_count": 68,
      "outputs": [
        {
          "output_type": "stream",
          "name": "stdout",
          "text": [
            "enter a string: hello world\n",
            "reversed string: dlrow olleh\n"
          ]
        }
      ]
    },
    {
      "cell_type": "code",
      "source": [
        "#15 Write a Python program to calculate the factorial of a number provided by the user using a while loop\n",
        "\n",
        "num = int(input(\"Enter a non-negative integer: \"))\n",
        "if num < 0:\n",
        "    print(\"Factorial is not defined for negative numbers.\")\n",
        "else:\n",
        "    factorial = 1\n",
        "    i = 1\n",
        "    while i <= num:\n",
        "        factorial *= i\n",
        "        i += 1\n",
        "    print(f\"The factorial of {num} is: {factorial}\")\n",
        "\n",
        "\n"
      ],
      "metadata": {
        "colab": {
          "base_uri": "https://localhost:8080/"
        },
        "id": "sQFtdW09ioVh",
        "outputId": "4794fafe-9002-4dcb-e5bf-df187b5712bf"
      },
      "execution_count": 1,
      "outputs": [
        {
          "output_type": "stream",
          "name": "stdout",
          "text": [
            "Enter a non-negative integer: 5\n",
            "The factorial of 5 is: 120\n"
          ]
        }
      ]
    }
  ]
}